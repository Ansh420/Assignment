{
 "cells": [
  {
   "cell_type": "code",
   "execution_count": 8,
   "metadata": {},
   "outputs": [],
   "source": [
    "import requests\n",
    "import difflib\n",
    "import json"
   ]
  },
  {
   "cell_type": "code",
   "execution_count": 9,
   "metadata": {},
   "outputs": [],
   "source": [
    "def fetch_data(api_url):\n",
    "    data = []\n",
    "    page = 1\n",
    "    while True:\n",
    "        response = requests.get(f\"{api_url}?page={page}\")\n",
    "        if response.status_code != 200:\n",
    "            break\n",
    "        try:\n",
    "            # If the response content is a string, parse it as JSON\n",
    "            json_data = json.loads(response.content.decode('utf-8'))\n",
    "        except json.JSONDecodeError:\n",
    "            break\n",
    "        if not json_data:\n",
    "            break\n",
    "        data.extend(json_data)\n",
    "        page += 1\n",
    "    return data"
   ]
  },
  {
   "cell_type": "code",
   "execution_count": 10,
   "metadata": {},
   "outputs": [],
   "source": [
    "def find_citations(response_text, sources):\n",
    "    citations = []\n",
    "    for source in sources:\n",
    "        if isinstance(source, str):\n",
    "            context = source\n",
    "        else:\n",
    "            context = source.get('context', '')\n",
    "        if context and difflib.SequenceMatcher(None, response_text, context).ratio() > 0.5:\n",
    "            citation = {\n",
    "                \"id\": source.get('id') if isinstance(source, dict) else None,\n",
    "                \"link\": source.get('link', '') if isinstance(source, dict) else ''\n",
    "            }\n",
    "            citations.append(citation)\n",
    "    return citations"
   ]
  },
  {
   "cell_type": "code",
   "execution_count": 11,
   "metadata": {},
   "outputs": [],
   "source": [
    "def process_responses(data):\n",
    "    all_citations = []\n",
    "    for item in data:\n",
    "        if isinstance(item, dict):\n",
    "            response_text = item.get('response', '')\n",
    "            sources = item.get('sources', [])\n",
    "        else:\n",
    "            response_text = item\n",
    "            sources = []\n",
    "        citations = find_citations(response_text, sources)\n",
    "        all_citations.append({\n",
    "            \"response\": response_text,\n",
    "            \"citations\": citations\n",
    "        })\n",
    "    return all_citations"
   ]
  },
  {
   "cell_type": "code",
   "execution_count": null,
   "metadata": {},
   "outputs": [],
   "source": [
    "def main():\n",
    "    api_url = 'https://devapi.beyondchats.com/api/get_message_with_sources'\n",
    "    data = fetch_data(api_url)\n",
    "    processed_data = process_responses(data)\n",
    "    # Print the processed data\n",
    "    print(json.dumps(processed_data, indent=2))\n",
    "\n",
    "    # Optionally write the output to a file\n",
    "    with open('citations_output.json', 'w') as f:\n",
    "        json.dump(processed_data, f, indent=2)\n",
    "\n",
    "if __name__ == '__main__':\n",
    "    main()\n"
   ]
  },
  {
   "cell_type": "code",
   "execution_count": null,
   "metadata": {},
   "outputs": [],
   "source": []
  }
 ],
 "metadata": {
  "kernelspec": {
   "display_name": "Python 3",
   "language": "python",
   "name": "python3"
  },
  "language_info": {
   "codemirror_mode": {
    "name": "ipython",
    "version": 3
   },
   "file_extension": ".py",
   "mimetype": "text/x-python",
   "name": "python",
   "nbconvert_exporter": "python",
   "pygments_lexer": "ipython3",
   "version": "3.12.2"
  }
 },
 "nbformat": 4,
 "nbformat_minor": 2
}
